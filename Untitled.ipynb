{
 "cells": [
  {
   "cell_type": "code",
   "execution_count": 3,
   "metadata": {},
   "outputs": [],
   "source": [
    "'''\n",
    "Try to use graphing API to also do the independent cascade.\n",
    "'''\n",
    "import numpy as np\n",
    "import networkx as nx\n",
    "import string\n",
    "\n",
    "\n",
    "Gph = nx.Graph()\n",
    "Gph.add_nodes_from( list(string.ascii_uppercase)[:6] )\n",
    "\n",
    "edges = [['A', 'B'], ['B', 'C'], ['B', 'D'],\n",
    "         ['C','D'], ['C', 'E'], ['D', 'F'] ]\n",
    "\n",
    "Gph.add_edges_from( edges )\n",
    "\n",
    "\n",
    "nx.draw_networkx(Gph, label=True)"
   ]
  },
  {
   "cell_type": "code",
   "execution_count": 3,
   "metadata": {},
   "outputs": [
    {
     "name": "stdout",
     "output_type": "stream",
     "text": [
      "(this always happens)\n",
      "Got P = 0.15616416931152344 chance of infecting node F after 1048576 trials\n",
      "Expected {expected}\n"
     ]
    },
    {
     "data": {
      "image/png": "[encoded data removed]",
      "text/plain": [
       "<Figure size 432x288 with 1 Axes>"
      ]
     },
     "metadata": {},
     "output_type": "display_data"
    }
   ],
   "source": [
    "Gph.nodes\n",
    "\n",
    "Gph.edges('B')\n",
    "\n",
    "Gph.nodes['A']['tag'] = True\n",
    "\n",
    "Gph.nodes['A']['tag']\n",
    "\n",
    "# run simulations on the graph.\n",
    "from collections import deque\n",
    "\n",
    "# initialize the graph.\n",
    "def reset(G):\n",
    "    for node in G.nodes:\n",
    "        G.nodes[node]['infected'] = False\n",
    "    G.nodes['A']['infected'] = True\n",
    "    initial = ['A']\n",
    "    return initial\n",
    "\n",
    "\n",
    "def infect(G, initial):\n",
    "    infected = deque(initial)\n",
    "    while infected:\n",
    "        node = infected.popleft()\n",
    "        nbrs = [ edge[-1] for edge in G.edges(node) ]\n",
    "\n",
    "        for nbr in nbrs:\n",
    "            if G.nodes[nbr]['infected'] == False:\n",
    "                success = np.random.rand() > 0.5\n",
    "                if success:\n",
    "                    G.nodes[nbr]['infected'] = True\n",
    "                    infected.append(nbr) # only add to the list once.\n",
    "\n",
    "def get_infected(G):\n",
    "    return list(filter(\n",
    "        lambda node: G.nodes[node]['infected'],\n",
    "        Gph.nodes ))\n",
    "\n",
    "initial = reset(Gph)\n",
    "infect(Gph, initial)\n",
    "\n",
    "result = get_infected(Gph)\n",
    "if 'F' in result:\n",
    "    print('test run success!')\n",
    "if 'A' in result:\n",
    "    print('(this always happens)')\n",
    "\n",
    "# from the Q5 rough work\n",
    "expected = 0.15625\n",
    "\n",
    "# run N experiments\n",
    "\n",
    "counter = 0\n",
    "N = 2 ** 20\n",
    "for _ in range(N):\n",
    "    initial = reset(Gph)\n",
    "    infect(Gph, initial)\n",
    "    result = get_infected(Gph)\n",
    "    if 'F' in result:\n",
    "        counter += 1\n",
    "        \n",
    "print(f'Got P = {counter / N} chance of infecting node F after {N} trials')\n",
    "print('Expected {expected}')\n",
    "\n",
    "# hey, looks good."
   ]
  },
  {
   "cell_type": "code",
   "execution_count": null,
   "metadata": {},
   "outputs": [],
   "source": []
  }
 ],
 "metadata": {
  "kernelspec": {
   "display_name": "Python 3",
   "language": "python",
   "name": "python3"
  },
  "language_info": {
   "codemirror_mode": {
    "name": "ipython",
    "version": 3
   },
   "file_extension": ".py",
   "mimetype": "text/x-python",
   "name": "python",
   "nbconvert_exporter": "python",
   "pygments_lexer": "ipython3",
   "version": "3.6.8"
  }
 },
 "nbformat": 4,
 "nbformat_minor": 2
}
